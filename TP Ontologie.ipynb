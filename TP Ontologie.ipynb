{
 "cells": [
  {
   "cell_type": "markdown",
   "id": "1030e561-19a7-4e32-aa31-2ba5ab8853a6",
   "metadata": {},
   "source": [
    "### TP Ontologie\n",
    "L'objectif de ce TP est de montrer le concept de Ontology-Based Data Access (OBDA), où l'on interroge les données résidant dans une base de données via l'ontologie.\n",
    "Nous utilisons pour cela le framework Ontop, qui est compatible avec l'environnement de développement d'ontologie Protégé (ODE), et MySQL est utilisé comme base de données relationnelle. Les tâches suivantes sont démontrées dans ce tutoriel :\n",
    "* l'implémentation d'Ontop et la connexion à une source de données.\n",
    "* la création d'un mappage dans la couche de mappage.\n",
    "* l'utilisation des données virtualisées pour (a) effectuer une requête dans SPARQL et (b) se matérialiser sous forme de triplets non virtualisés.\n",
    "\n",
    "Le reste de ce tutoriel est structuré comme suit : la section 1 présente un bref\n",
    "aperçu ; l'installation d'Ontop dans Protégé est décrite dans la section 2, et la section 3 démontre le processus de mappage. La section 4 se termine par une démonstration de l'utilisation des données de la section 3. \n",
    "Remarque : des supports de didacticiel similaires (et sur lesquels se basent les instructions générales de ce didacticiel) pour un domaine de sujet autre que les éléphants habitant l'un des 10 plus grands parcs nationaux du monde sont disponibles sur `https://github.com/ontop/ontop/wiki` et `https://ontop-vkg.org/tutorial/`.\n",
    "\n",
    "<span style=\"color : red\">Je suis rouge</span>"
   ]
  },
  {
   "cell_type": "markdown",
   "id": "0c4132e8-0e77-4d1b-ad5d-5ec04e1b379f",
   "metadata": {},
   "source": []
  }
 ],
 "metadata": {
  "kernelspec": {
   "display_name": "Python 3 (ipykernel)",
   "language": "python",
   "name": "python3"
  },
  "language_info": {
   "codemirror_mode": {
    "name": "ipython",
    "version": 3
   },
   "file_extension": ".py",
   "mimetype": "text/x-python",
   "name": "python",
   "nbconvert_exporter": "python",
   "pygments_lexer": "ipython3",
   "version": "3.12.6"
  }
 },
 "nbformat": 4,
 "nbformat_minor": 5
}
